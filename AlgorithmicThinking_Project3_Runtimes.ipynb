{
  "nbformat": 4,
  "nbformat_minor": 0,
  "metadata": {
    "colab": {
      "name": "AlgorithmicThinking_Project3_Runtimes.ipynb",
      "provenance": [],
      "collapsed_sections": []
    },
    "kernelspec": {
      "name": "python3",
      "display_name": "Python 3"
    }
  },
  "cells": [
    {
      "cell_type": "code",
      "metadata": {
        "id": "xkIvyKdzKAkk",
        "colab_type": "code",
        "colab": {}
      },
      "source": [
        "import runtime as rt\n",
        "import runtime_test_main as rtmain\n",
        "\n",
        "import importlib"
      ],
      "execution_count": 0,
      "outputs": []
    },
    {
      "cell_type": "code",
      "metadata": {
        "id": "59vdVpPAKQil",
        "colab_type": "code",
        "outputId": "8480443a-622a-494b-f84e-31ffc29e6029",
        "colab": {
          "base_uri": "https://localhost:8080/",
          "height": 35
        }
      },
      "source": [
        "importlib.reload(rt)\n",
        "importlib.reload(rtmain)"
      ],
      "execution_count": 0,
      "outputs": [
        {
          "output_type": "execute_result",
          "data": {
            "text/plain": [
              "<module 'runtime_test_main' from '/content/runtime_test_main.py'>"
            ]
          },
          "metadata": {
            "tags": []
          },
          "execution_count": 37
        }
      ]
    },
    {
      "cell_type": "code",
      "metadata": {
        "id": "Webqvy1vKdVh",
        "colab_type": "code",
        "outputId": "aa5d97aa-95c6-411e-e2d1-ab26bd72aa2b",
        "colab": {
          "base_uri": "https://localhost:8080/",
          "height": 1000
        }
      },
      "source": [
        "rt.gen_test_report_csv()"
      ],
      "execution_count": 0,
      "outputs": [
        {
          "output_type": "stream",
          "text": [
            "2,2.6702880859375e-05,1.7404556274414062e-05\n",
            "3,1.7404556274414062e-05,1.3113021850585938e-05\n",
            "4,2.3603439331054688e-05,3.2901763916015625e-05\n",
            "5,3.552436828613281e-05,2.8133392333984375e-05\n",
            "6,4.9114227294921875e-05,3.24249267578125e-05\n",
            "7,6.413459777832031e-05,4.4345855712890625e-05\n",
            "8,7.891654968261719e-05,5.459785461425781e-05\n",
            "9,9.036064147949219e-05,6.413459777832031e-05\n",
            "10,0.00010418891906738281,3.886222839355469e-05\n",
            "11,0.00011730194091796875,5.364418029785156e-05\n",
            "12,0.00013327598571777344,6.604194641113281e-05\n",
            "13,0.0001266002655029297,5.4836273193359375e-05\n",
            "14,0.00016021728515625,0.00011038780212402344\n",
            "15,0.00016760826110839844,0.00011038780212402344\n",
            "16,0.00018525123596191406,0.00011730194091796875\n",
            "17,0.0002269744873046875,0.00010752677917480469\n",
            "18,0.0002315044403076172,0.00010657310485839844\n",
            "19,0.0002560615539550781,0.00012350082397460938\n",
            "20,0.0002961158752441406,0.00015163421630859375\n",
            "21,0.00031280517578125,0.00012493133544921875\n",
            "22,0.00035071372985839844,0.0001373291015625\n",
            "23,0.00037407875061035156,0.00014925003051757812\n",
            "24,0.0004146099090576172,0.00014543533325195312\n",
            "25,0.0004544258117675781,0.000152587890625\n",
            "26,0.00048160552978515625,0.00013971328735351562\n",
            "27,0.0005228519439697266,0.0001633167266845703\n",
            "28,0.0005676746368408203,0.00016880035400390625\n",
            "29,0.0005996227264404297,0.00018787384033203125\n",
            "30,0.0006265640258789062,0.00022172927856445312\n",
            "31,0.0006823539733886719,0.00020432472229003906\n",
            "32,0.0007295608520507812,0.00020956993103027344\n",
            "33,0.0007672309875488281,0.0002522468566894531\n",
            "34,0.0008237361907958984,0.000270843505859375\n",
            "35,0.0008702278137207031,0.000247955322265625\n",
            "36,0.0009195804595947266,0.0002570152282714844\n",
            "37,0.0009808540344238281,0.00025343894958496094\n",
            "38,0.0010225772857666016,0.00026297569274902344\n",
            "39,0.001085042953491211,0.0003025531768798828\n",
            "40,0.0011365413665771484,0.00027251243591308594\n",
            "41,0.0011930465698242188,0.0003027915954589844\n",
            "42,0.0012333393096923828,0.0003254413604736328\n",
            "43,0.0014066696166992188,0.0003299713134765625\n",
            "44,0.0014014244079589844,0.00030922889709472656\n",
            "45,0.0014481544494628906,0.0003559589385986328\n",
            "46,0.0014824867248535156,0.0003237724304199219\n",
            "47,0.0015387535095214844,0.00033402442932128906\n",
            "48,0.0016248226165771484,0.0003497600555419922\n",
            "49,0.0017733573913574219,0.0003781318664550781\n",
            "50,0.0017609596252441406,0.0003910064697265625\n",
            "51,0.0019383430480957031,0.0003368854522705078\n",
            "52,0.0019104480743408203,0.0003905296325683594\n",
            "53,0.0020134449005126953,0.0003781318664550781\n",
            "54,0.002086639404296875,0.0003771781921386719\n",
            "55,0.002117633819580078,0.00040650367736816406\n",
            "56,0.0021865367889404297,0.0005605220794677734\n",
            "57,0.0023310184478759766,0.0004901885986328125\n",
            "58,0.0023603439331054688,0.00048613548278808594\n",
            "59,0.002469301223754883,0.0004680156707763672\n",
            "60,0.0025887489318847656,0.0004558563232421875\n",
            "61,0.0026073455810546875,0.0005011558532714844\n",
            "62,0.00272369384765625,0.000514984130859375\n",
            "63,0.002802133560180664,0.0005497932434082031\n",
            "64,0.002861499786376953,0.0005655288696289062\n",
            "65,0.0029861927032470703,0.0005371570587158203\n",
            "66,0.0030596256256103516,0.0005464553833007812\n",
            "67,0.005244255065917969,0.001085519790649414\n",
            "68,0.0058248043060302734,0.0014612674713134766\n",
            "69,0.0034182071685791016,0.0006048679351806641\n",
            "70,0.0035560131072998047,0.0006139278411865234\n",
            "71,0.0035552978515625,0.0005931854248046875\n",
            "72,0.003778219223022461,0.0006389617919921875\n",
            "73,0.003775358200073242,0.0006318092346191406\n",
            "74,0.003918647766113281,0.0007159709930419922\n",
            "75,0.0040285587310791016,0.0005903244018554688\n",
            "76,0.004072666168212891,0.0006945133209228516\n",
            "77,0.0042345523834228516,0.0006315708160400391\n",
            "78,0.004325151443481445,0.0006163120269775391\n",
            "79,0.004410505294799805,0.006640195846557617\n",
            "80,0.004469394683837891,0.0009281635284423828\n",
            "81,0.004727602005004883,0.0008919239044189453\n",
            "82,0.004719972610473633,0.0008912086486816406\n",
            "83,0.004845142364501953,0.0008184909820556641\n",
            "84,0.004945516586303711,0.0008819103240966797\n",
            "85,0.005350351333618164,0.0007333755493164062\n",
            "86,0.005339384078979492,0.0007305145263671875\n",
            "87,0.005521059036254883,0.0007658004760742188\n",
            "88,0.005545377731323242,0.0007476806640625\n",
            "89,0.005681276321411133,0.0007836818695068359\n",
            "90,0.005830049514770508,0.0006742477416992188\n",
            "91,0.005966901779174805,0.0007905960083007812\n",
            "92,0.006209373474121094,0.00083160400390625\n",
            "93,0.0063970088958740234,0.0008246898651123047\n",
            "94,0.006444454193115234,0.0008361339569091797\n",
            "95,0.006752967834472656,0.0008261203765869141\n",
            "96,0.006896018981933594,0.0007104873657226562\n",
            "97,0.006955146789550781,0.0008370876312255859\n",
            "98,0.0069577693939208984,0.0007991790771484375\n",
            "99,0.007142305374145508,0.0008058547973632812\n",
            "100,0.007328987121582031,0.0008447170257568359\n",
            "101,0.007848262786865234,0.0010330677032470703\n",
            "102,0.007380247116088867,0.0009024143218994141\n",
            "103,0.007538557052612305,0.0008344650268554688\n",
            "104,0.009030342102050781,0.0008955001831054688\n",
            "105,0.007880449295043945,0.0009088516235351562\n",
            "106,0.008064031600952148,0.0009424686431884766\n",
            "107,0.01336812973022461,0.0009558200836181641\n",
            "108,0.008777379989624023,0.001039266586303711\n",
            "109,0.008668661117553711,0.0008759498596191406\n",
            "110,0.009257793426513672,0.0010020732879638672\n",
            "111,0.008889436721801758,0.0009427070617675781\n",
            "112,0.009084224700927734,0.0010476112365722656\n",
            "113,0.009221553802490234,0.0010194778442382812\n",
            "114,0.009287118911743164,0.0010287761688232422\n",
            "115,0.009525775909423828,0.0010492801666259766\n",
            "116,0.009645462036132812,0.0009646415710449219\n",
            "117,0.010012626647949219,0.0011281967163085938\n",
            "118,0.009970664978027344,0.0010557174682617188\n",
            "119,0.010299444198608398,0.0010612010955810547\n",
            "120,0.010748624801635742,0.0011913776397705078\n",
            "121,0.010430097579956055,0.0011310577392578125\n",
            "122,0.010612249374389648,0.0011754035949707031\n",
            "123,0.010919332504272461,0.0012049674987792969\n",
            "124,0.011097431182861328,0.0011675357818603516\n",
            "125,0.011356830596923828,0.0012412071228027344\n",
            "126,0.011355161666870117,0.0011777877807617188\n",
            "127,0.012386798858642578,0.0020172595977783203\n",
            "128,0.013261556625366211,0.0012843608856201172\n",
            "129,0.012204647064208984,0.0011980533599853516\n",
            "130,0.012054920196533203,0.0013010501861572266\n",
            "131,0.012237071990966797,0.001203298568725586\n",
            "132,0.012633562088012695,0.0012280941009521484\n",
            "133,0.012605905532836914,0.0012636184692382812\n",
            "134,0.012820720672607422,0.0013148784637451172\n",
            "135,0.013053417205810547,0.0013577938079833984\n",
            "136,0.013213157653808594,0.0013952255249023438\n",
            "137,0.013575553894042969,0.0013842582702636719\n",
            "138,0.01356816291809082,0.001348733901977539\n",
            "139,0.013792991638183594,0.0014667510986328125\n",
            "140,0.013939857482910156,0.0014252662658691406\n",
            "141,0.019278764724731445,0.0018870830535888672\n",
            "142,0.018254756927490234,0.0015482902526855469\n",
            "143,0.016634464263916016,0.001444101333618164\n",
            "144,0.01811504364013672,0.0015106201171875\n",
            "145,0.01523137092590332,0.0013947486877441406\n",
            "146,0.015499591827392578,0.0015020370483398438\n",
            "147,0.015389442443847656,0.0013093948364257812\n",
            "148,0.01564502716064453,0.0013990402221679688\n",
            "149,0.01573777198791504,0.0013890266418457031\n",
            "150,0.01597142219543457,0.001438140869140625\n",
            "151,0.016373872756958008,0.0014567375183105469\n",
            "152,0.0166318416595459,0.0015873908996582031\n",
            "153,0.01665329933166504,0.0015277862548828125\n",
            "154,0.017199039459228516,0.0015037059783935547\n",
            "155,0.017311811447143555,0.0015091896057128906\n",
            "156,0.0191802978515625,0.0028314590454101562\n",
            "157,0.0211331844329834,0.001859903335571289\n",
            "158,0.02427387237548828,0.0014770030975341797\n",
            "159,0.018225669860839844,0.0016357898712158203\n",
            "160,0.018375635147094727,0.001589059829711914\n",
            "161,0.01835799217224121,0.0016241073608398438\n",
            "162,0.018751859664916992,0.0014677047729492188\n",
            "163,0.018975019454956055,0.001603841781616211\n",
            "164,0.019183874130249023,0.0015490055084228516\n",
            "165,0.019480466842651367,0.0015742778778076172\n",
            "166,0.020462512969970703,0.0016307830810546875\n",
            "167,0.023363590240478516,0.001603841781616211\n",
            "168,0.02037978172302246,0.001577615737915039\n",
            "169,0.020546436309814453,0.0015883445739746094\n",
            "170,0.020678997039794922,0.0017120838165283203\n",
            "171,0.024970054626464844,0.0015549659729003906\n",
            "172,0.0213620662689209,0.0018913745880126953\n",
            "173,0.021442174911499023,0.0016911029815673828\n",
            "174,0.021703481674194336,0.0016455650329589844\n",
            "175,0.02228546142578125,0.0017380714416503906\n",
            "176,0.025547266006469727,0.0016694068908691406\n",
            "177,0.023252487182617188,0.0016379356384277344\n",
            "178,0.02255988121032715,0.001811981201171875\n",
            "179,0.0229034423828125,0.001659393310546875\n",
            "180,0.022923946380615234,0.0016922950744628906\n",
            "181,0.025120973587036133,0.0015110969543457031\n",
            "182,0.02438831329345703,0.0016667842864990234\n",
            "183,0.02599620819091797,0.0016989707946777344\n",
            "184,0.024014949798583984,0.0016474723815917969\n",
            "185,0.025268077850341797,0.002546548843383789\n",
            "186,0.027194499969482422,0.00185394287109375\n",
            "187,0.02496480941772461,0.0017580986022949219\n",
            "188,0.025348186492919922,0.0018792152404785156\n",
            "189,0.0254213809967041,0.001749277114868164\n",
            "190,0.025890827178955078,0.001840353012084961\n",
            "191,0.026066064834594727,0.0018055438995361328\n",
            "192,0.02633357048034668,0.0017642974853515625\n",
            "193,0.02726459503173828,0.0017790794372558594\n",
            "194,0.030025243759155273,0.00188446044921875\n",
            "195,0.027284622192382812,0.001863241195678711\n",
            "196,0.028792858123779297,0.0018091201782226562\n",
            "197,0.030045747756958008,0.0020470619201660156\n",
            "198,0.03428530693054199,0.0018258094787597656\n",
            "199,0.028356075286865234,0.001918792724609375\n",
            "200,0.029193401336669922,0.0017867088317871094\n"
          ],
          "name": "stdout"
        }
      ]
    },
    {
      "cell_type": "code",
      "metadata": {
        "id": "q4jq6M5jKwf9",
        "colab_type": "code",
        "colab": {}
      },
      "source": [
        "import pandas as pd\n",
        "import matplotlib.pyplot as plt"
      ],
      "execution_count": 0,
      "outputs": []
    },
    {
      "cell_type": "code",
      "metadata": {
        "id": "xqw7qKdJK_m1",
        "colab_type": "code",
        "colab": {}
      },
      "source": [
        "df = pd.read_csv('runtimes.csv')"
      ],
      "execution_count": 0,
      "outputs": []
    },
    {
      "cell_type": "code",
      "metadata": {
        "id": "QyqJ6bskLCxJ",
        "colab_type": "code",
        "outputId": "fcbea831-9bb3-4059-d371-c25cad6fa719",
        "colab": {
          "base_uri": "https://localhost:8080/",
          "height": 424
        }
      },
      "source": [
        "df"
      ],
      "execution_count": 0,
      "outputs": [
        {
          "output_type": "execute_result",
          "data": {
            "text/html": [
              "<div>\n",
              "<style scoped>\n",
              "    .dataframe tbody tr th:only-of-type {\n",
              "        vertical-align: middle;\n",
              "    }\n",
              "\n",
              "    .dataframe tbody tr th {\n",
              "        vertical-align: top;\n",
              "    }\n",
              "\n",
              "    .dataframe thead th {\n",
              "        text-align: right;\n",
              "    }\n",
              "</style>\n",
              "<table border=\"1\" class=\"dataframe\">\n",
              "  <thead>\n",
              "    <tr style=\"text-align: right;\">\n",
              "      <th></th>\n",
              "      <th>n_clusters</th>\n",
              "      <th>slow_closest_pair</th>\n",
              "      <th>fast_closest_pair</th>\n",
              "    </tr>\n",
              "  </thead>\n",
              "  <tbody>\n",
              "    <tr>\n",
              "      <th>0</th>\n",
              "      <td>2</td>\n",
              "      <td>0.000027</td>\n",
              "      <td>0.000017</td>\n",
              "    </tr>\n",
              "    <tr>\n",
              "      <th>1</th>\n",
              "      <td>3</td>\n",
              "      <td>0.000017</td>\n",
              "      <td>0.000013</td>\n",
              "    </tr>\n",
              "    <tr>\n",
              "      <th>2</th>\n",
              "      <td>4</td>\n",
              "      <td>0.000024</td>\n",
              "      <td>0.000033</td>\n",
              "    </tr>\n",
              "    <tr>\n",
              "      <th>3</th>\n",
              "      <td>5</td>\n",
              "      <td>0.000036</td>\n",
              "      <td>0.000028</td>\n",
              "    </tr>\n",
              "    <tr>\n",
              "      <th>4</th>\n",
              "      <td>6</td>\n",
              "      <td>0.000049</td>\n",
              "      <td>0.000032</td>\n",
              "    </tr>\n",
              "    <tr>\n",
              "      <th>...</th>\n",
              "      <td>...</td>\n",
              "      <td>...</td>\n",
              "      <td>...</td>\n",
              "    </tr>\n",
              "    <tr>\n",
              "      <th>194</th>\n",
              "      <td>196</td>\n",
              "      <td>0.028793</td>\n",
              "      <td>0.001809</td>\n",
              "    </tr>\n",
              "    <tr>\n",
              "      <th>195</th>\n",
              "      <td>197</td>\n",
              "      <td>0.030046</td>\n",
              "      <td>0.002047</td>\n",
              "    </tr>\n",
              "    <tr>\n",
              "      <th>196</th>\n",
              "      <td>198</td>\n",
              "      <td>0.034285</td>\n",
              "      <td>0.001826</td>\n",
              "    </tr>\n",
              "    <tr>\n",
              "      <th>197</th>\n",
              "      <td>199</td>\n",
              "      <td>0.028356</td>\n",
              "      <td>0.001919</td>\n",
              "    </tr>\n",
              "    <tr>\n",
              "      <th>198</th>\n",
              "      <td>200</td>\n",
              "      <td>0.029193</td>\n",
              "      <td>0.001787</td>\n",
              "    </tr>\n",
              "  </tbody>\n",
              "</table>\n",
              "<p>199 rows × 3 columns</p>\n",
              "</div>"
            ],
            "text/plain": [
              "     n_clusters  slow_closest_pair  fast_closest_pair\n",
              "0             2           0.000027           0.000017\n",
              "1             3           0.000017           0.000013\n",
              "2             4           0.000024           0.000033\n",
              "3             5           0.000036           0.000028\n",
              "4             6           0.000049           0.000032\n",
              "..          ...                ...                ...\n",
              "194         196           0.028793           0.001809\n",
              "195         197           0.030046           0.002047\n",
              "196         198           0.034285           0.001826\n",
              "197         199           0.028356           0.001919\n",
              "198         200           0.029193           0.001787\n",
              "\n",
              "[199 rows x 3 columns]"
            ]
          },
          "metadata": {
            "tags": []
          },
          "execution_count": 41
        }
      ]
    },
    {
      "cell_type": "code",
      "metadata": {
        "id": "8ZcxKGpRMCE3",
        "colab_type": "code",
        "outputId": "8f2cfe44-410f-4461-c8e2-373d9ca8cef8",
        "colab": {
          "base_uri": "https://localhost:8080/",
          "height": 308
        }
      },
      "source": [
        "plt.plot(df['n_clusters'], df['fast_closest_pair'], label='fast_closest_pair')\n",
        "plt.plot(df['n_clusters'], df['slow_closest_pair'], label='slow_closest_pair')\n",
        "plt.xlabel('No. of initial clusters')\n",
        "plt.ylabel('Running time in seconds')\n",
        "plt.legend()\n",
        "plt.title('Running Times of closest_pair Functions', fontdict={'fontsize': 18}, pad=15)\n",
        "plt.savefig('closest_pair_runtimes.jpg', quality=100, dpi=200)\n",
        "plt.show()"
      ],
      "execution_count": 0,
      "outputs": [
        {
          "output_type": "display_data",
          "data": {
            "image/png": "[encoded data removed]",
            "text/plain": [
              "<Figure size 432x288 with 1 Axes>"
            ]
          },
          "metadata": {
            "tags": [],
            "needs_background": "light"
          }
        }
      ]
    },
    {
      "cell_type": "code",
      "metadata": {
        "id": "RjDvKBXxP7v5",
        "colab_type": "code",
        "colab": {}
      },
      "source": [
        ""
      ],
      "execution_count": 0,
      "outputs": []
    }
  ]
}